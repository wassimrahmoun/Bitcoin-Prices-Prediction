{
 "cells": [
  {
   "cell_type": "markdown",
   "metadata": {},
   "source": [
    "<figure>\n",
    "  <IMG src=\"figures/logo-esi-sba.png\" WIDTH=300 height=\"100\" ALIGN=\"right\">\n",
    "</figure>\n",
    "\n",
    "# Practical Trainining Series on Software Engineering For Data Science  \n",
    "*By Dr. Belkacem KHALDI (b.khaldi@esi-sba.dz)*"
   ]
  },
  {
   "cell_type": "markdown",
   "metadata": {
    "slideshow": {
     "slide_type": "slide"
    }
   },
   "source": [
    "# Notebook 11: Web Development for Data Science: Building DS App with Streamlit (Part III)\n",
    "\n",
    "\n",
    "The purpose of this [Jupyter Notebook] is to getting you familairized with  Building Data Science Apps with Streamlit"
   ]
  },
  {
   "cell_type": "markdown",
   "metadata": {},
   "source": [
    "#  Streamlit Hands-On\n",
    "\n",
    "Create a comprehensive, interactive Streamlit application that provides deep insights into Bitcoin price data Challenge seen in Lab 5  through advanced visualization and EDA analysis techniques.\n",
    "\n",
    "### 🔍 Challenge Specifications\n",
    "\n",
    "#### Dashboard Components (Mandatory (40 Points))\n",
    "1. **Dynamic Data Loading**\n",
    "   - Fetch real-time Bitcoin price data\n",
    "   - Allow custom date range selection\n",
    "\n",
    "2. **Analysis Modules**\n",
    "   - Descriptive statistics\n",
    "\n",
    "3. **Interactive Visualizations**\n",
    "   - Price trend analysis\n",
    "   - Advanced statistical visualizations\n",
    "\n",
    "#### Machine Learning Model Implementation (Additional 30 points)\n",
    "- A Simple Machine learning prediction Model Impelementation\n",
    "\n",
    "### 🚀 Key Development Requirements\n",
    "\n",
    "1. **Data Management**\n",
    "   - Implement robust data loading mechanism\n",
    "   - Handle potential data retrieval errors\n",
    "   - Preprocess Bitcoin data\n",
    "\n",
    "2. **Interactive Components**\n",
    "   - Create dynamic date range selectors\n",
    "   - Develop multiple analysis type options\n",
    "   - Implement tabbed interface for different insights\n",
    "\n",
    "3. **Visualization Techniques**\n",
    "   - Use Plotly for interactive charts\n",
    "   - Create multiple visualization types\n",
    "   - Implement correlation and trend analysis\n"
   ]
  },
  {
   "cell_type": "code",
   "execution_count": null,
   "metadata": {},
   "outputs": [],
   "source": [
    "#Your Solution"
   ]
  }
 ],
 "metadata": {
  "anaconda-cloud": {},
  "kernelspec": {
   "display_name": "Python 3",
   "language": "python",
   "name": "python3"
  },
  "language_info": {
   "codemirror_mode": {
    "name": "ipython",
    "version": 3
   },
   "file_extension": ".py",
   "mimetype": "text/x-python",
   "name": "python",
   "nbconvert_exporter": "python",
   "pygments_lexer": "ipython3",
   "version": "3.8.5"
  }
 },
 "nbformat": 4,
 "nbformat_minor": 2
}
